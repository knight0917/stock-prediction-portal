{
 "cells": [
  {
   "cell_type": "code",
   "execution_count": 1,
   "id": "1b03cd98-95b2-42d7-adea-0aae07c950c4",
   "metadata": {},
   "outputs": [],
   "source": [
    "import numpy as np"
   ]
  },
  {
   "cell_type": "code",
   "execution_count": 2,
   "id": "7eeb3804-50bb-4439-bf2d-97a3c158d55a",
   "metadata": {},
   "outputs": [
    {
     "data": {
      "text/plain": [
       "'2.3.1'"
      ]
     },
     "execution_count": 2,
     "metadata": {},
     "output_type": "execute_result"
    }
   ],
   "source": [
    "np.__version__"
   ]
  },
  {
   "cell_type": "markdown",
   "id": "2a5524fb-a13d-4cc7-a7f3-beb762ba2610",
   "metadata": {},
   "source": [
    "## Create & Read"
   ]
  },
  {
   "cell_type": "markdown",
   "id": "f08cb740-14c3-4135-b09d-074fcef17c59",
   "metadata": {},
   "source": [
    "### 1D Array"
   ]
  },
  {
   "cell_type": "code",
   "execution_count": 3,
   "id": "d255ff3e-7f24-4458-a76d-53ea96a27ca8",
   "metadata": {},
   "outputs": [],
   "source": [
    "arr1 = np.array([1,2,3,4,5])"
   ]
  },
  {
   "cell_type": "code",
   "execution_count": 4,
   "id": "a34dc850-3951-4752-90db-779323758c80",
   "metadata": {},
   "outputs": [
    {
     "data": {
      "text/plain": [
       "array([1, 2, 3, 4, 5])"
      ]
     },
     "execution_count": 4,
     "metadata": {},
     "output_type": "execute_result"
    }
   ],
   "source": [
    "arr1"
   ]
  },
  {
   "cell_type": "code",
   "execution_count": 5,
   "id": "0d81aef4-8d8d-4e87-a803-0a19c4dcc7ef",
   "metadata": {},
   "outputs": [
    {
     "data": {
      "text/plain": [
       "numpy.ndarray"
      ]
     },
     "execution_count": 5,
     "metadata": {},
     "output_type": "execute_result"
    }
   ],
   "source": [
    "type(arr1)"
   ]
  },
  {
   "cell_type": "code",
   "execution_count": 6,
   "id": "a92cd22c-d0a7-4f25-98ba-78bc428a37f5",
   "metadata": {},
   "outputs": [
    {
     "data": {
      "text/plain": [
       "(5,)"
      ]
     },
     "execution_count": 6,
     "metadata": {},
     "output_type": "execute_result"
    }
   ],
   "source": [
    "arr1.shape"
   ]
  },
  {
   "cell_type": "code",
   "execution_count": 7,
   "id": "af70c2c8-2016-4ceb-9918-1829453a67ce",
   "metadata": {},
   "outputs": [
    {
     "data": {
      "text/plain": [
       "dtype('int64')"
      ]
     },
     "execution_count": 7,
     "metadata": {},
     "output_type": "execute_result"
    }
   ],
   "source": [
    "arr1.dtype"
   ]
  },
  {
   "cell_type": "code",
   "execution_count": 8,
   "id": "f303c9cf-c8be-4149-bd06-ee139c8f816d",
   "metadata": {},
   "outputs": [
    {
     "data": {
      "text/plain": [
       "1"
      ]
     },
     "execution_count": 8,
     "metadata": {},
     "output_type": "execute_result"
    }
   ],
   "source": [
    "arr1.ndim"
   ]
  },
  {
   "cell_type": "code",
   "execution_count": 9,
   "id": "d55abc63-6eff-4964-8a9c-ab489211903b",
   "metadata": {},
   "outputs": [
    {
     "data": {
      "text/plain": [
       "5"
      ]
     },
     "execution_count": 9,
     "metadata": {},
     "output_type": "execute_result"
    }
   ],
   "source": [
    "arr1.size"
   ]
  },
  {
   "cell_type": "markdown",
   "id": "e5787141-c9a2-487e-8cad-67f786b70f8f",
   "metadata": {},
   "source": [
    "### 2D Array"
   ]
  },
  {
   "cell_type": "code",
   "execution_count": 13,
   "id": "4314f187-8fd4-4102-8eeb-e49199a1caae",
   "metadata": {},
   "outputs": [
    {
     "data": {
      "text/plain": [
       "array([[1, 2, 3],\n",
       "       [2, 3, 4]])"
      ]
     },
     "execution_count": 13,
     "metadata": {},
     "output_type": "execute_result"
    }
   ],
   "source": [
    "arr2 = np.array([[1,2,3], [2,3,4]])\n",
    "arr2"
   ]
  },
  {
   "cell_type": "code",
   "execution_count": 14,
   "id": "0cf26918-c30f-417a-9f28-eab9fba99b91",
   "metadata": {},
   "outputs": [
    {
     "data": {
      "text/plain": [
       "2"
      ]
     },
     "execution_count": 14,
     "metadata": {},
     "output_type": "execute_result"
    }
   ],
   "source": [
    "arr2.ndim"
   ]
  },
  {
   "cell_type": "code",
   "execution_count": 15,
   "id": "1093c83e-e1b4-485b-a587-a88c30118382",
   "metadata": {},
   "outputs": [
    {
     "data": {
      "text/plain": [
       "(2, 3)"
      ]
     },
     "execution_count": 15,
     "metadata": {},
     "output_type": "execute_result"
    }
   ],
   "source": [
    "arr2.shape #(2row and 3column)"
   ]
  },
  {
   "cell_type": "code",
   "execution_count": 16,
   "id": "07699bfb-7197-4a1e-a6f4-6f66bae3fd0a",
   "metadata": {},
   "outputs": [
    {
     "data": {
      "text/plain": [
       "dtype('int64')"
      ]
     },
     "execution_count": 16,
     "metadata": {},
     "output_type": "execute_result"
    }
   ],
   "source": [
    "arr2.dtype"
   ]
  },
  {
   "cell_type": "code",
   "execution_count": 17,
   "id": "4eec4b38-41f4-4596-9d4e-eda2182b794f",
   "metadata": {},
   "outputs": [
    {
     "data": {
      "text/plain": [
       "6"
      ]
     },
     "execution_count": 17,
     "metadata": {},
     "output_type": "execute_result"
    }
   ],
   "source": [
    "arr2.size"
   ]
  },
  {
   "cell_type": "markdown",
   "id": "62d380de-2171-44a4-b574-a3e272a3068d",
   "metadata": {},
   "source": [
    "### 3D Array"
   ]
  },
  {
   "cell_type": "code",
   "execution_count": 19,
   "id": "70b3417f-2990-49f2-903b-0be084737692",
   "metadata": {},
   "outputs": [
    {
     "data": {
      "text/plain": [
       "array([[[1, 2, 3],\n",
       "        [3, 4, 5]],\n",
       "\n",
       "       [[5, 6, 7],\n",
       "        [6, 9, 1]]])"
      ]
     },
     "execution_count": 19,
     "metadata": {},
     "output_type": "execute_result"
    }
   ],
   "source": [
    "arr3 = np.array([[[1,2,3], [3,4,5]], [[5,6,7],[6,9,1]]]) \n",
    "arr3"
   ]
  },
  {
   "cell_type": "code",
   "execution_count": 20,
   "id": "64cee53b-d340-4ae2-9ca2-c8c13c85a8e1",
   "metadata": {},
   "outputs": [
    {
     "data": {
      "text/plain": [
       "3"
      ]
     },
     "execution_count": 20,
     "metadata": {},
     "output_type": "execute_result"
    }
   ],
   "source": [
    "arr3.ndim"
   ]
  },
  {
   "cell_type": "code",
   "execution_count": 21,
   "id": "b58cc747-861b-476c-b2e0-618cf9a3373e",
   "metadata": {},
   "outputs": [
    {
     "data": {
      "text/plain": [
       "(2, 2, 3)"
      ]
     },
     "execution_count": 21,
     "metadata": {},
     "output_type": "execute_result"
    }
   ],
   "source": [
    "arr3.shape #2 is no. of layer, 2row in each layer and 3columns in each layer"
   ]
  },
  {
   "cell_type": "code",
   "execution_count": 22,
   "id": "840b8a8c-fd81-4a06-bfbe-89e9c2a011c9",
   "metadata": {},
   "outputs": [
    {
     "data": {
      "text/plain": [
       "12"
      ]
     },
     "execution_count": 22,
     "metadata": {},
     "output_type": "execute_result"
    }
   ],
   "source": [
    "arr3.size"
   ]
  },
  {
   "cell_type": "markdown",
   "id": "1421aa38-52e1-48ae-94dc-69c092debdc1",
   "metadata": {},
   "source": [
    "### random array"
   ]
  },
  {
   "cell_type": "code",
   "execution_count": 26,
   "id": "48a4cc74-fa80-45ae-b50f-ff7b22dbadf8",
   "metadata": {},
   "outputs": [
    {
     "data": {
      "text/plain": [
       "array([[[0.1975463 , 0.48687512, 0.92478008],\n",
       "        [0.07401486, 0.53356259, 0.15597446]],\n",
       "\n",
       "       [[0.09734863, 0.0949687 , 0.1381195 ],\n",
       "        [0.97424419, 0.2873612 , 0.33685878]],\n",
       "\n",
       "       [[0.76334617, 0.74801939, 0.98530157],\n",
       "        [0.42950679, 0.29270981, 0.04917359]]])"
      ]
     },
     "execution_count": 26,
     "metadata": {},
     "output_type": "execute_result"
    }
   ],
   "source": [
    "randArr = np.random.rand(3, 2, 3)\n",
    "randArr"
   ]
  },
  {
   "cell_type": "code",
   "execution_count": 27,
   "id": "cc0eea0c-5e0c-40dc-80d2-6ca6bacc0443",
   "metadata": {},
   "outputs": [
    {
     "data": {
      "text/plain": [
       "dtype('float64')"
      ]
     },
     "execution_count": 27,
     "metadata": {},
     "output_type": "execute_result"
    }
   ],
   "source": [
    "randArr.dtype"
   ]
  },
  {
   "cell_type": "code",
   "execution_count": 28,
   "id": "1873ac1b-6af9-426e-a590-452669359ba9",
   "metadata": {},
   "outputs": [
    {
     "data": {
      "text/plain": [
       "array([[[0., 0., 0.],\n",
       "        [0., 0., 0.]],\n",
       "\n",
       "       [[0., 0., 0.],\n",
       "        [0., 0., 0.]],\n",
       "\n",
       "       [[0., 0., 0.],\n",
       "        [0., 0., 0.]]])"
      ]
     },
     "execution_count": 28,
     "metadata": {},
     "output_type": "execute_result"
    }
   ],
   "source": [
    "zeroes = np.zeros((3,2,3))\n",
    "zeroes"
   ]
  },
  {
   "cell_type": "code",
   "execution_count": 29,
   "id": "f0cc7967-b5b8-459a-8a95-3162d95ffdcc",
   "metadata": {},
   "outputs": [
    {
     "data": {
      "text/plain": [
       "3"
      ]
     },
     "execution_count": 29,
     "metadata": {},
     "output_type": "execute_result"
    }
   ],
   "source": [
    "zeroes.ndim"
   ]
  },
  {
   "cell_type": "code",
   "execution_count": 30,
   "id": "1ae08712-3e2c-43cb-8e3b-a582c755f226",
   "metadata": {},
   "outputs": [
    {
     "data": {
      "text/plain": [
       "array([[[8, 8, 8],\n",
       "        [8, 8, 8]],\n",
       "\n",
       "       [[8, 8, 8],\n",
       "        [8, 8, 8]],\n",
       "\n",
       "       [[8, 8, 8],\n",
       "        [8, 8, 8]]])"
      ]
     },
     "execution_count": 30,
     "metadata": {},
     "output_type": "execute_result"
    }
   ],
   "source": [
    "full = np.full((3,2,3), 8)\n",
    "full"
   ]
  },
  {
   "cell_type": "code",
   "execution_count": 33,
   "id": "1b97aac0-d26f-4682-9cbd-82aa31b6f87c",
   "metadata": {},
   "outputs": [
    {
     "data": {
      "text/plain": [
       "array([[[1., 1., 1.],\n",
       "        [1., 1., 1.]],\n",
       "\n",
       "       [[1., 1., 1.],\n",
       "        [1., 1., 1.]],\n",
       "\n",
       "       [[1., 1., 1.],\n",
       "        [1., 1., 1.]]])"
      ]
     },
     "execution_count": 33,
     "metadata": {},
     "output_type": "execute_result"
    }
   ],
   "source": [
    "ones = np.ones((3,2,3))\n",
    "ones"
   ]
  },
  {
   "cell_type": "code",
   "execution_count": 34,
   "id": "7b9d9011-5b24-467a-8826-a7519f136adb",
   "metadata": {},
   "outputs": [
    {
     "data": {
      "text/plain": [
       "array([[[1, 2, 3],\n",
       "        [3, 4, 5]],\n",
       "\n",
       "       [[5, 6, 7],\n",
       "        [6, 9, 1]]])"
      ]
     },
     "execution_count": 34,
     "metadata": {},
     "output_type": "execute_result"
    }
   ],
   "source": [
    "arr3"
   ]
  },
  {
   "cell_type": "code",
   "execution_count": 35,
   "id": "d6552493-0b7f-42d9-b6c1-70b11e961e52",
   "metadata": {},
   "outputs": [
    {
     "data": {
      "text/plain": [
       "array([[1, 2, 3],\n",
       "       [3, 4, 5]])"
      ]
     },
     "execution_count": 35,
     "metadata": {},
     "output_type": "execute_result"
    }
   ],
   "source": [
    "arr3[0]"
   ]
  },
  {
   "cell_type": "code",
   "execution_count": 36,
   "id": "700ba4c9-9bad-4758-90a1-77ae17a765a1",
   "metadata": {},
   "outputs": [
    {
     "data": {
      "text/plain": [
       "array([1, 2, 3])"
      ]
     },
     "execution_count": 36,
     "metadata": {},
     "output_type": "execute_result"
    }
   ],
   "source": [
    "arr3[0][0]"
   ]
  },
  {
   "cell_type": "code",
   "execution_count": 39,
   "id": "508e7e5e-db59-430c-8684-52e7e50cbd14",
   "metadata": {},
   "outputs": [
    {
     "data": {
      "text/plain": [
       "array([3, 4, 5])"
      ]
     },
     "execution_count": 39,
     "metadata": {},
     "output_type": "execute_result"
    }
   ],
   "source": [
    "arr3[0][1]"
   ]
  },
  {
   "cell_type": "code",
   "execution_count": 42,
   "id": "73ceb034-5cd8-4c01-885f-3ff5d1dc712a",
   "metadata": {},
   "outputs": [
    {
     "data": {
      "text/plain": [
       "np.int64(5)"
      ]
     },
     "execution_count": 42,
     "metadata": {},
     "output_type": "execute_result"
    }
   ],
   "source": [
    "arr3[0][1][2]"
   ]
  },
  {
   "cell_type": "raw",
   "id": "c841d79f-d577-49c4-acda-26059a6d3175",
   "metadata": {},
   "source": [
    "arr3[]"
   ]
  },
  {
   "cell_type": "code",
   "execution_count": 43,
   "id": "fabcb67e-4545-43d7-b459-c1617df3f14d",
   "metadata": {},
   "outputs": [
    {
     "data": {
      "text/plain": [
       "array([], shape=(0, 2, 3), dtype=int64)"
      ]
     },
     "execution_count": 43,
     "metadata": {},
     "output_type": "execute_result"
    }
   ],
   "source": [
    "arr3[2:3]"
   ]
  },
  {
   "cell_type": "code",
   "execution_count": 44,
   "id": "2763d941-c705-430a-acf4-2fb0587efd60",
   "metadata": {},
   "outputs": [
    {
     "data": {
      "text/plain": [
       "array([[[1, 2, 3],\n",
       "        [3, 4, 5]],\n",
       "\n",
       "       [[5, 6, 7],\n",
       "        [6, 9, 1]]])"
      ]
     },
     "execution_count": 44,
     "metadata": {},
     "output_type": "execute_result"
    }
   ],
   "source": [
    "arr3[0:2]"
   ]
  },
  {
   "cell_type": "code",
   "execution_count": 45,
   "id": "f83d5338-3313-429c-a179-807af49bb932",
   "metadata": {},
   "outputs": [
    {
     "data": {
      "text/plain": [
       "array([[5, 6, 7],\n",
       "       [6, 9, 1]])"
      ]
     },
     "execution_count": 45,
     "metadata": {},
     "output_type": "execute_result"
    }
   ],
   "source": [
    "arr3[-1]"
   ]
  },
  {
   "cell_type": "markdown",
   "id": "925d03ab-04a1-4862-8d86-49a536f2cbc8",
   "metadata": {},
   "source": [
    "### Update & Delete"
   ]
  },
  {
   "cell_type": "code",
   "execution_count": 49,
   "id": "d7535b93-b7bb-41fc-8038-e097aaae8df2",
   "metadata": {},
   "outputs": [
    {
     "data": {
      "text/plain": [
       "(array([[[0.83874507, 0.53589998],\n",
       "         [0.86203608, 0.47667698],\n",
       "         [0.28667114, 0.11996162]],\n",
       " \n",
       "        [[0.28623664, 0.56481449],\n",
       "         [0.87257453, 0.32643243],\n",
       "         [0.45341739, 0.41344218]]]),\n",
       " array([[[0.77937571, 0.92927353],\n",
       "         [0.76623637, 0.97320669],\n",
       "         [0.17982209, 0.67687168]],\n",
       " \n",
       "        [[0.80964437, 0.49329977],\n",
       "         [0.68418535, 0.91007438],\n",
       "         [0.52394216, 0.70258766]]]))"
      ]
     },
     "execution_count": 49,
     "metadata": {},
     "output_type": "execute_result"
    }
   ],
   "source": [
    "a1 = np.random.rand(2,3,2)\n",
    "a2 = np.random.rand(2,3,2)\n",
    "a1, a2"
   ]
  },
  {
   "cell_type": "code",
   "execution_count": 50,
   "id": "86f16a17-6f64-47f8-8de0-2efc341556b8",
   "metadata": {},
   "outputs": [
    {
     "data": {
      "text/plain": [
       "array([[[1.61812078, 1.4651735 ],\n",
       "        [1.62827245, 1.44988367],\n",
       "        [0.46649323, 0.7968333 ]],\n",
       "\n",
       "       [[1.09588101, 1.05811426],\n",
       "        [1.55675989, 1.23650682],\n",
       "        [0.97735955, 1.11602984]]])"
      ]
     },
     "execution_count": 50,
     "metadata": {},
     "output_type": "execute_result"
    }
   ],
   "source": [
    "np.add(a1,a2)"
   ]
  },
  {
   "cell_type": "markdown",
   "id": "8b770842-e578-4d0a-b069-5b69decad444",
   "metadata": {},
   "source": [
    "### Update"
   ]
  },
  {
   "cell_type": "code",
   "execution_count": 51,
   "id": "9b7e1d65-8451-4fc8-9a29-31179b801729",
   "metadata": {},
   "outputs": [
    {
     "data": {
      "text/plain": [
       "array([[[1, 2, 3],\n",
       "        [3, 4, 5]],\n",
       "\n",
       "       [[5, 6, 7],\n",
       "        [6, 9, 1]]])"
      ]
     },
     "execution_count": 51,
     "metadata": {},
     "output_type": "execute_result"
    }
   ],
   "source": [
    "arr3"
   ]
  },
  {
   "cell_type": "code",
   "execution_count": 53,
   "id": "92167947-9a0b-47c8-8ab6-a59ccc0d25a5",
   "metadata": {},
   "outputs": [
    {
     "data": {
      "text/plain": [
       "array([[[  1,   2, 200],\n",
       "        [  3,   4,   5]],\n",
       "\n",
       "       [[  5,   6,   7],\n",
       "        [  6,   9,   1]]])"
      ]
     },
     "execution_count": 53,
     "metadata": {},
     "output_type": "execute_result"
    }
   ],
   "source": [
    "arr3[0,0, 2] = 200\n",
    "arr3"
   ]
  },
  {
   "cell_type": "code",
   "execution_count": 55,
   "id": "a37084c1-1369-4ae9-9d4c-b7c7c67f3de5",
   "metadata": {},
   "outputs": [
    {
     "data": {
      "text/plain": [
       "array([[[  1,   2, 200],\n",
       "        [  3,   4,   5]],\n",
       "\n",
       "       [[  5,   6,   7],\n",
       "        [  1,   6,   9]]])"
      ]
     },
     "execution_count": 55,
     "metadata": {},
     "output_type": "execute_result"
    }
   ],
   "source": [
    "arr3.sort()\n",
    "arr3"
   ]
  }
 ],
 "metadata": {
  "kernelspec": {
   "display_name": "Python 3 (ipykernel)",
   "language": "python",
   "name": "python3"
  },
  "language_info": {
   "codemirror_mode": {
    "name": "ipython",
    "version": 3
   },
   "file_extension": ".py",
   "mimetype": "text/x-python",
   "name": "python",
   "nbconvert_exporter": "python",
   "pygments_lexer": "ipython3",
   "version": "3.13.5"
  }
 },
 "nbformat": 4,
 "nbformat_minor": 5
}
